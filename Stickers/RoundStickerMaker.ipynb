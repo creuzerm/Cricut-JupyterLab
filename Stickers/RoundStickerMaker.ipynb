{
 "cells": [
  {
   "cell_type": "code",
   "execution_count": null,
   "id": "54e42812-4a4c-4d04-ab39-fe021fe88dd6",
   "metadata": {},
   "outputs": [],
   "source": [
    "from PIL import Image, ImageDraw\n",
    "import numpy as np\n",
    "import os\n",
    "\n",
    "def resize_and_crop_to_circle(image, size):\n",
    "    \"\"\"Resizes an image to fit a circle with the specified size,\n",
    "    upscaling or downscaling if necessary, and then crops it to a circle\n",
    "    based on the transparency mask. Crops to the mask first, before resizing.\n",
    "    \"\"\"\n",
    "\n",
    "    img = Image.open(image).convert(\"RGBA\")\n",
    "\n",
    "    # Create transparency mask and get nonzero pixel indices\n",
    "    mask = img.getchannel(\"A\")  # Extract alpha channel as mask\n",
    "    nonzero_indices = np.nonzero(mask)  # Get indices of non-transparent pixels\n",
    "\n",
    "    # Find bounding box of non-transparent pixels\n",
    "    y_min, y_max = nonzero_indices[0].min(), nonzero_indices[0].max()\n",
    "    x_min, x_max = nonzero_indices[1].min(), nonzero_indices[1].max()\n",
    "\n",
    "    # Crop to the bounding box\n",
    "    cropped_img = img.crop((x_min, y_min, x_max, y_max))\n",
    "\n",
    "    # Resize to the specified size using LANCZOS filter\n",
    "    resized_img = cropped_img.resize(size, Image.LANCZOS)\n",
    "\n",
    "    # Create a circular mask with the same size as the resized image\n",
    "    mask = Image.new(\"L\", size, 0)\n",
    "    draw = ImageDraw.Draw(mask)\n",
    "    draw.ellipse((0, 0, size[0], size[1]), fill=255)\n",
    "\n",
    "    # Apply the circular mask to the resized image\n",
    "    cropped_img = Image.composite(resized_img, Image.new(\"RGBA\", size, (0, 0, 0, 0)), mask)\n",
    "\n",
    "    return cropped_img\n",
    "\n",
    "\n",
    "\n",
    "def create_grid(images, rows, cols, spacing=0, diameter=300):\n",
    "  \"\"\"Arranges images in a grid with optional spacing.\"\"\"\n",
    "  cell_width = diameter + spacing\n",
    "  cell_height = diameter + spacing\n",
    "  grid_width = cell_width * cols\n",
    "  grid_height = cell_height * rows\n",
    "  grid = Image.new(\"RGBA\", (grid_width, grid_height), (0, 0, 0, 0))\n",
    "\n",
    "  for i, image in enumerate(images):\n",
    "    x = (i % cols) * cell_width\n",
    "    y = (i // cols) * cell_height\n",
    "    # Directly paste the pre-processed image from resized_images list\n",
    "    grid.paste(image, (x, y))\n",
    "\n",
    "  return grid"
   ]
  },
  {
   "cell_type": "code",
   "execution_count": null,
   "id": "ba444e01-980a-4ec1-8fc8-d118f17e5e36",
   "metadata": {},
   "outputs": [],
   "source": [
    "source_dir = \"Source_Images\"\n",
    "filename = \"StickerSheet.png\"\n",
    "quality = 95\n",
    "# Adjust rows and cols based on desired sheet size and image diameter \n",
    "rows = 9  # Adjust as needed\n",
    "cols = 6  # Adjust as needed\n",
    "spacing = 30  # Adjust as needed\n",
    "size = (300,300) # 1 inch at 300dpi\n",
    "\n",
    "images = [os.path.join(source_dir, f) for f in os.listdir(source_dir) if f.lower().endswith(('.png', '.jpg', '.jpeg'))]\n",
    "resized_images = [resize_and_crop_to_circle(img, size) for img in images]\n",
    "grid = create_grid(resized_images, rows, cols, spacing)\n",
    "grid.save(filename, quality=quality)"
   ]
  },
  {
   "cell_type": "code",
   "execution_count": null,
   "id": "f2abfd0b-2199-467e-80a5-26e3172f1d3e",
   "metadata": {},
   "outputs": [],
   "source": [
    "display(Image.open(filename))"
   ]
  }
 ],
 "metadata": {
  "kernelspec": {
   "display_name": "Python 3 (ipykernel)",
   "language": "python",
   "name": "python3"
  },
  "language_info": {
   "codemirror_mode": {
    "name": "ipython",
    "version": 3
   },
   "file_extension": ".py",
   "mimetype": "text/x-python",
   "name": "python",
   "nbconvert_exporter": "python",
   "pygments_lexer": "ipython3",
   "version": "3.8.18"
  }
 },
 "nbformat": 4,
 "nbformat_minor": 5
}
