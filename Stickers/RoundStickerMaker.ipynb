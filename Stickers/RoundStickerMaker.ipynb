{
 "cells": [
  {
   "cell_type": "code",
   "execution_count": null,
   "id": "30336cf2-b5eb-4b0b-b0f5-c3aa07de6b49",
   "metadata": {},
   "outputs": [],
   "source": [
    "from PIL import Image, ImageDraw\n",
    "import os\n",
    "\n",
    "def crop_to_circle(image):\n",
    "   \"\"\"Crops an image to a circle with alpha masking.\"\"\"\n",
    "   img = Image.open(image).convert(\"RGBA\")\n",
    "   diameter = min(img.width, img.height)\n",
    "   mask = Image.new(\"L\", img.size, 0)\n",
    "   draw = ImageDraw.Draw(mask)\n",
    "   draw.ellipse((0, 0, diameter, diameter), fill=255)\n",
    "   mask = mask.resize(img.size, Image.LANCZOS)\n",
    "   img = Image.composite(img, Image.new(\"RGBA\", img.size, (0, 0, 0, 0)), mask)\n",
    "   return img.crop((0, 0, diameter, diameter))\n",
    "\n",
    "def create_grid(images, rows, cols, spacing=0):\n",
    "   \"\"\"Arranges images in a grid with optional spacing.\"\"\"\n",
    "   cell_width = images[0].width + spacing\n",
    "   cell_height = images[0].height + spacing\n",
    "   grid_width = cell_width * cols\n",
    "   grid_height = cell_height * rows\n",
    "   grid = Image.new(\"RGBA\", (grid_width, grid_height), (0, 0, 0, 0))\n",
    "\n",
    "   for i, image in enumerate(images):\n",
    "       x = (i % cols) * cell_width\n",
    "       y = (i // cols) * cell_height\n",
    "       grid.paste(image, (x, y))\n",
    "\n",
    "   return grid\n",
    "\n",
    "def main():\n",
    "   source_dir = \"Source_Images\"\n",
    "   filename = \"StickerSheet.png\"\n",
    "   quality = 95\n",
    "   rows = 9  # Adjust as needed\n",
    "   cols = 6  # Adjust as needed\n",
    "   spacing = 30  # Adjust as needed \n",
    "\n",
    "   images = [os.path.join(source_dir, f) for f in os.listdir(source_dir) if f.lower().endswith(('.png', '.jpg', '.jpeg'))]\n",
    "   cropped_images = [crop_to_circle(img) for img in images]\n",
    "   grid = create_grid(cropped_images, rows, cols, spacing)\n",
    "   grid.save(filename, quality=quality)\n",
    "\n",
    "if __name__ == \"__main__\":\n",
    "   main()\n"
   ]
  }
 ],
 "metadata": {
  "kernelspec": {
   "display_name": "Python 3 (ipykernel)",
   "language": "python",
   "name": "python3"
  },
  "language_info": {
   "codemirror_mode": {
    "name": "ipython",
    "version": 3
   },
   "file_extension": ".py",
   "mimetype": "text/x-python",
   "name": "python",
   "nbconvert_exporter": "python",
   "pygments_lexer": "ipython3",
   "version": "3.8.18"
  }
 },
 "nbformat": 4,
 "nbformat_minor": 5
}
