{
 "cells": [
  {
   "cell_type": "code",
   "execution_count": 1,
   "id": "54e42812-4a4c-4d04-ab39-fe021fe88dd6",
   "metadata": {},
   "outputs": [],
   "source": [
    "from PIL import Image, ImageDraw\n",
    "import os\n",
    "\n",
    "def resize_and_crop_to_circle(image, diameter=300):\n",
    "  \"\"\"Resizes an image to fit a circle with the specified diameter and then crops it to a circle.\"\"\"\n",
    "  img = Image.open(image).convert(\"RGBA\")  # Open image using Image.open\n",
    "  # Find the maximum dimension to resize based on\n",
    "  max_dim = max(img.width, img.height)\n",
    "  # Calculate resize ratio to fit within the diameter\n",
    "  resize_ratio = diameter / max_dim\n",
    "  # Resize the image while maintaining aspect ratio using LANCZOS filter\n",
    "  img = img.resize((int(img.width * resize_ratio), int(img.height * resize_ratio)), Image.LANCZOS)\n",
    "  # Crop the resized image to a circle\n",
    "  mask = Image.new(\"L\", img.size, 0)\n",
    "  draw = ImageDraw.Draw(mask)\n",
    "  draw.ellipse((0, 0, diameter, diameter), fill=255)\n",
    "  return img.crop((0, 0, diameter, diameter))\n",
    "\n",
    "def create_grid(images, rows, cols, spacing=0, diameter=300):\n",
    "  \"\"\"Arranges images in a grid with optional spacing.\"\"\"\n",
    "  cell_width = diameter + spacing\n",
    "  cell_height = diameter + spacing\n",
    "  grid_width = cell_width * cols\n",
    "  grid_height = cell_height * rows\n",
    "  grid = Image.new(\"RGBA\", (grid_width, grid_height), (0, 0, 0, 0))\n",
    "\n",
    "  for i, image in enumerate(images):\n",
    "    x = (i % cols) * cell_width\n",
    "    y = (i // cols) * cell_height\n",
    "    # Directly paste the pre-processed image from resized_images list\n",
    "    grid.paste(image, (x, y))\n",
    "\n",
    "  return grid"
   ]
  },
  {
   "cell_type": "code",
   "execution_count": 2,
   "id": "ba444e01-980a-4ec1-8fc8-d118f17e5e36",
   "metadata": {},
   "outputs": [],
   "source": [
    "source_dir = \"Source_Images\"\n",
    "filename = \"StickerSheet.png\"\n",
    "quality = 95\n",
    "# Adjust rows and cols based on desired sheet size and image diameter \n",
    "rows = 9  # Adjust as needed\n",
    "cols = 6  # Adjust as needed\n",
    "spacing = 30  # Adjust as needed\n",
    "\n",
    "images = [os.path.join(source_dir, f) for f in os.listdir(source_dir) if f.lower().endswith(('.png', '.jpg', '.jpeg'))]\n",
    "resized_images = [resize_and_crop_to_circle(img) for img in images]\n",
    "grid = create_grid(resized_images, rows, cols, spacing)\n",
    "grid.save(filename, quality=quality)"
   ]
  }
 ],
 "metadata": {
  "kernelspec": {
   "display_name": "Python 3 (ipykernel)",
   "language": "python",
   "name": "python3"
  },
  "language_info": {
   "codemirror_mode": {
    "name": "ipython",
    "version": 3
   },
   "file_extension": ".py",
   "mimetype": "text/x-python",
   "name": "python",
   "nbconvert_exporter": "python",
   "pygments_lexer": "ipython3",
   "version": "3.8.18"
  }
 },
 "nbformat": 4,
 "nbformat_minor": 5
}
